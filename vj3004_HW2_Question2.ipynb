{
 "cells": [
  {
   "cell_type": "markdown",
   "metadata": {},
   "source": [
    "## Name: Krina Bharatbhai Patel\n",
    "## Net Id : vj3004\n",
    "\n",
    "## Name: Fnu,Sharmila Bolikoppa Palakshappa\n",
    "## Net Id : bm6575\n",
    "\n",
    "## Name: Vatsal Sudhir Pathak\n",
    "## Net Id : pv2556\n",
    "\n",
    "## Group Id: 7\n",
    "## Assignment 2\n",
    "\n",
    "## Q2 [3pts]: Use all the 64 features, assume that inputs are 64 dimensional Gaussians, and assume that for each class the covariance matrix is different. Report the training and test confusion matrices and errors. \n",
    "\n"
   ]
  },
  {
   "cell_type": "code",
   "execution_count": 6,
   "metadata": {},
   "outputs": [],
   "source": [
    "import numpy as np\n",
    "from pandas import DataFrame, read_csv, to_numeric\n",
    "from sklearn import cluster\n",
    "import pandas as pd\n",
    "from numpy.linalg import multi_dot\n",
    "from sklearn.metrics import confusion_matrix\n",
    "\n",
    "\n",
    "df_train = read_csv('optdigits_69_N200.tra',header=None)\n",
    "df_test = read_csv('optdigits_69.tes',header=None)\n"
   ]
  },
  {
   "cell_type": "code",
   "execution_count": 7,
   "metadata": {},
   "outputs": [
    {
     "name": "stdout",
     "output_type": "stream",
     "text": [
      "Int64Index([0, 1, 6, 7, 8, 14, 15, 16, 21, 22, 23, 24, 31, 32, 39, 40, 47, 48,\n",
      "            56],\n",
      "           dtype='int64')\n"
     ]
    }
   ],
   "source": [
    "# computing variance for each columns for each class\n",
    "# if variance is below or equal to 0(var_threshold) for any column for any class, that column will be dropped\n",
    "\n",
    "var_threshold = 0\n",
    "df_var = df_train.groupby(by=64).var()\n",
    "s_var_threshold = (df_var > var_threshold).product()\n",
    "columns_to_drop = s_var_threshold[s_var_threshold == 0].index\n",
    "print(columns_to_drop)"
   ]
  },
  {
   "cell_type": "code",
   "execution_count": 8,
   "metadata": {},
   "outputs": [],
   "source": [
    "# drop columns with variance below or equal to threshold\n",
    "df_train = df_train.drop(columns = columns_to_drop)\n",
    "df_test = df_test.drop(columns = columns_to_drop)"
   ]
  },
  {
   "cell_type": "markdown",
   "metadata": {},
   "source": [
    "## Find statistics (mean, covariance matrix, inverse covariance matrix and probability) for each label (6,9)"
   ]
  },
  {
   "cell_type": "code",
   "execution_count": 9,
   "metadata": {},
   "outputs": [
    {
     "data": {
      "text/html": [
       "<div>\n",
       "<style scoped>\n",
       "    .dataframe tbody tr th:only-of-type {\n",
       "        vertical-align: middle;\n",
       "    }\n",
       "\n",
       "    .dataframe tbody tr th {\n",
       "        vertical-align: top;\n",
       "    }\n",
       "\n",
       "    .dataframe thead th {\n",
       "        text-align: right;\n",
       "    }\n",
       "</style>\n",
       "<table border=\"1\" class=\"dataframe\">\n",
       "  <thead>\n",
       "    <tr style=\"text-align: right;\">\n",
       "      <th></th>\n",
       "      <th>mean</th>\n",
       "      <th>cov</th>\n",
       "      <th>cov_inv</th>\n",
       "      <th>prob</th>\n",
       "    </tr>\n",
       "    <tr>\n",
       "      <th>label</th>\n",
       "      <th></th>\n",
       "      <th></th>\n",
       "      <th></th>\n",
       "      <th></th>\n",
       "    </tr>\n",
       "  </thead>\n",
       "  <tbody>\n",
       "    <tr>\n",
       "      <th>6</th>\n",
       "      <td>2      1.62\n",
       "3     10.39\n",
       "4      8.17\n",
       "5      1.0...</td>\n",
       "      <td>[[8.601616161616176, 3.644646464646466, -7.813...</td>\n",
       "      <td>[[2.365819243333108, 0.10448503724247567, 0.17...</td>\n",
       "      <td>0.5</td>\n",
       "    </tr>\n",
       "    <tr>\n",
       "      <th>9</th>\n",
       "      <td>2      4.32\n",
       "3     10.99\n",
       "4     11.44\n",
       "5      5.8...</td>\n",
       "      <td>[[13.290505050505047, 12.98303030303031, -1.96...</td>\n",
       "      <td>[[1.0851332190027723, -0.2569954456264059, 0.2...</td>\n",
       "      <td>0.5</td>\n",
       "    </tr>\n",
       "  </tbody>\n",
       "</table>\n",
       "</div>"
      ],
      "text/plain": [
       "                                                    mean  \\\n",
       "label                                                      \n",
       "6      2      1.62\n",
       "3     10.39\n",
       "4      8.17\n",
       "5      1.0...   \n",
       "9      2      4.32\n",
       "3     10.99\n",
       "4     11.44\n",
       "5      5.8...   \n",
       "\n",
       "                                                     cov  \\\n",
       "label                                                      \n",
       "6      [[8.601616161616176, 3.644646464646466, -7.813...   \n",
       "9      [[13.290505050505047, 12.98303030303031, -1.96...   \n",
       "\n",
       "                                                 cov_inv  prob  \n",
       "label                                                           \n",
       "6      [[2.365819243333108, 0.10448503724247567, 0.17...   0.5  \n",
       "9      [[1.0851332190027723, -0.2569954456264059, 0.2...   0.5  "
      ]
     },
     "execution_count": 9,
     "metadata": {},
     "output_type": "execute_result"
    }
   ],
   "source": [
    "grouped = df_train.groupby(by=64)\n",
    "stat_list = []\n",
    "for name, group in grouped:\n",
    "    df = group.drop(columns=[64])\n",
    "    m = np.mean(df)\n",
    "    s = np.cov(df.T)\n",
    "    s_inv = np.linalg.inv(s)\n",
    "    prob = df.shape[0] / df_train.shape[0]\n",
    "    stat_list.append([name, m, s, s_inv, prob])\n",
    "\n",
    "df_stat = pd.DataFrame(stat_list, columns=['label', 'mean', 'cov', 'cov_inv', 'prob'])\n",
    "df_stat = df_stat.set_index('label')\n",
    "df_stat"
   ]
  },
  {
   "cell_type": "markdown",
   "metadata": {},
   "source": [
    "## Multivariate Discriminant Function"
   ]
  },
  {
   "cell_type": "code",
   "execution_count": 10,
   "metadata": {},
   "outputs": [],
   "source": [
    "def discriminant_func(x, mean, cov, cov_inv, prob):    \n",
    "    wi = -0.5 * cov_inv\n",
    "    wj = np.dot(cov_inv, mean)\n",
    "    wk = -0.5 * np.linalg.multi_dot([mean.T, cov_inv, mean]) - 0.5 * np.log(np.linalg.det(cov)) + np.log(prob)\n",
    "    g = np.linalg.multi_dot([x.T, wi, x]) + np.dot(wj.T, x) + wk \n",
    "    return g.squeeze().astype('float')\n"
   ]
  },
  {
   "cell_type": "markdown",
   "metadata": {},
   "source": [
    "## Multivariate Predict Function"
   ]
  },
  {
   "cell_type": "code",
   "execution_count": 11,
   "metadata": {},
   "outputs": [],
   "source": [
    "def multivariate_predict(df, df_stat):\n",
    "    df_no_label = df.drop(columns=[64])\n",
    "\n",
    "    results = []\n",
    "    for i in range(df_no_label.shape[0]):\n",
    "        x = np.asarray(df_no_label.iloc[i])\n",
    "        x = x.reshape(1,-1).T\n",
    "        discriminant_values = df_stat.apply(lambda row:\n",
    "                            discriminant_func(x, row[\"mean\"], row[\"cov\"], row[\"cov_inv\"], row[\"prob\"]), axis=1)\n",
    "\n",
    "        discriminant_values = discriminant_values.astype('float')\n",
    "        res = discriminant_values.idxmax()\n",
    "        results.append(res)\n",
    "\n",
    "    df_results = pd.DataFrame(results, columns=['predicted'])\n",
    "    return df_results"
   ]
  },
  {
   "cell_type": "markdown",
   "metadata": {},
   "source": [
    "## Find train and test errors"
   ]
  },
  {
   "cell_type": "code",
   "execution_count": 12,
   "metadata": {},
   "outputs": [],
   "source": [
    "df_results_train = multivariate_predict(df_train, df_stat)\n",
    "df_results_test = multivariate_predict(df_test, df_stat)"
   ]
  },
  {
   "cell_type": "code",
   "execution_count": 13,
   "metadata": {},
   "outputs": [
    {
     "name": "stdout",
     "output_type": "stream",
     "text": [
      "Train error: 0.0000 %\n"
     ]
    }
   ],
   "source": [
    "e = df_results_train.ne(df_train[64], axis=0).mean().sort_values()*100\n",
    "print(\"Train error: %.4f %%\"%(e.values[0]))"
   ]
  },
  {
   "cell_type": "markdown",
   "metadata": {},
   "source": [
    "## Train error: 0.0000 %"
   ]
  },
  {
   "cell_type": "code",
   "execution_count": 14,
   "metadata": {},
   "outputs": [
    {
     "name": "stdout",
     "output_type": "stream",
     "text": [
      "Test error: 1.3850 %\n"
     ]
    }
   ],
   "source": [
    "e = df_results_test.ne(df_test[64], axis=0).mean().sort_values()*100\n",
    "print(\"Test error: %.4f %%\"%(e.values[0]))"
   ]
  },
  {
   "cell_type": "markdown",
   "metadata": {},
   "source": [
    "## Test error: 1.3850 %"
   ]
  },
  {
   "cell_type": "markdown",
   "metadata": {},
   "source": [
    "## Confusion Matrix\n",
    "## 1) Confusion Matrix for Training"
   ]
  },
  {
   "cell_type": "code",
   "execution_count": 18,
   "metadata": {},
   "outputs": [
    {
     "data": {
      "text/plain": [
       "array([[100,   0],\n",
       "       [  0, 100]])"
      ]
     },
     "execution_count": 18,
     "metadata": {},
     "output_type": "execute_result"
    }
   ],
   "source": [
    "confusion_matrix(df_train[64], df_results_train)"
   ]
  },
  {
   "cell_type": "markdown",
   "metadata": {},
   "source": [
    "## 2) Confusion Matrix for testing"
   ]
  },
  {
   "cell_type": "code",
   "execution_count": 19,
   "metadata": {
    "scrolled": false
   },
   "outputs": [
    {
     "data": {
      "text/plain": [
       "array([[176,   5],\n",
       "       [  0, 180]])"
      ]
     },
     "execution_count": 19,
     "metadata": {},
     "output_type": "execute_result"
    }
   ],
   "source": [
    "confusion_matrix(df_test[64], df_results_test)"
   ]
  }
 ],
 "metadata": {
  "kernelspec": {
   "display_name": "Python 3",
   "language": "python",
   "name": "python3"
  },
  "language_info": {
   "codemirror_mode": {
    "name": "ipython",
    "version": 3
   },
   "file_extension": ".py",
   "mimetype": "text/x-python",
   "name": "python",
   "nbconvert_exporter": "python",
   "pygments_lexer": "ipython3",
   "version": "3.6.4"
  }
 },
 "nbformat": 4,
 "nbformat_minor": 4
}
