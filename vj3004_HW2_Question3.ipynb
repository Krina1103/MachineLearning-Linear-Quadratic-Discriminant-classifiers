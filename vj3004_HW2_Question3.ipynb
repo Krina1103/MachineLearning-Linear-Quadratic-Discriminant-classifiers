{
 "cells": [
  {
   "cell_type": "markdown",
   "metadata": {},
   "source": [
    "## Name: Krina Bharatbhai Patel\n",
    "## Net Id : vj3004\n",
    "\n",
    "## Name: Fnu,Sharmila Bolikoppa Palakshappa\n",
    "## Net Id : bm6575\n",
    "\n",
    "## Name: Vatsal Sudhir Pathak\n",
    "## Net Id : pv2556\n",
    "\n",
    "## Group Id: 7\n",
    "## Assignment 2\n",
    "\n",
    "## Q3 [3pts]: Repeat Q2, assuming that all the class covariance matrices are the same. \n",
    "\n",
    "\n"
   ]
  },
  {
   "cell_type": "code",
   "execution_count": 6,
   "metadata": {},
   "outputs": [],
   "source": [
    "import numpy as np\n",
    "from pandas import DataFrame, read_csv, to_numeric\n",
    "from sklearn import cluster\n",
    "import pandas as pd\n",
    "from numpy.linalg import multi_dot\n",
    "from sklearn.metrics import confusion_matrix\n",
    "\n",
    "\n",
    "df_train = read_csv('optdigits_69_N200.tra',header=None)\n",
    "df_test = read_csv('optdigits_69.tes',header=None)"
   ]
  },
  {
   "cell_type": "code",
   "execution_count": 7,
   "metadata": {},
   "outputs": [
    {
     "name": "stdout",
     "output_type": "stream",
     "text": [
      "Int64Index([0, 1, 6, 7, 8, 14, 15, 16, 21, 22, 23, 24, 31, 32, 39, 40, 47, 48,\n",
      "            56],\n",
      "           dtype='int64')\n"
     ]
    }
   ],
   "source": [
    "# computing variance for each columns for each class\n",
    "# if variance is below or equal to 0(var_threshold) for any column for any class, that column will be dropped\n",
    "\n",
    "var_threshold = 0\n",
    "df_var = df_train.groupby(by=64).var()\n",
    "s_var_threshold = (df_var > var_threshold).product()\n",
    "columns_to_drop = s_var_threshold[s_var_threshold == 0].index\n",
    "print(columns_to_drop)"
   ]
  },
  {
   "cell_type": "code",
   "execution_count": 8,
   "metadata": {},
   "outputs": [],
   "source": [
    "# drop columns with variance below or equal to  threshold\n",
    "df_train = df_train.drop(columns = columns_to_drop)\n",
    "df_test = df_test.drop(columns = columns_to_drop)"
   ]
  },
  {
   "cell_type": "markdown",
   "metadata": {},
   "source": [
    "## Find statistics (mean, common covariance matrix, common inverse covariance matrix and probability) for each label (6,9)"
   ]
  },
  {
   "cell_type": "code",
   "execution_count": 9,
   "metadata": {},
   "outputs": [],
   "source": [
    "grouped = df_train.groupby(by=64)\n",
    "stat_list = []\n",
    "s = []\n",
    "common_cov = np.zeros((45,45))\n",
    "\n",
    "for name, group in grouped:\n",
    "    df = group.drop(columns=[64])\n",
    "    m = np.mean(df)\n",
    "    s = np.cov(df.T)\n",
    "    common_cov = s + common_cov\n",
    "    \n",
    "    s_inv = np.linalg.inv(s)\n",
    "    prob = df.shape[0] / df_train.shape[0]\n",
    "    common_covariance = np.dot(common_cov,prob)\n",
    "    common_covariance_inv = np.linalg.inv(common_covariance)\n",
    "    stat_list.append([name, m, prob,common_covariance,common_covariance_inv])\n",
    "    "
   ]
  },
  {
   "cell_type": "code",
   "execution_count": 10,
   "metadata": {
    "scrolled": true
   },
   "outputs": [],
   "source": [
    "df_stat = pd.DataFrame(stat_list, columns=['label', 'mean', 'prob', 'common_covariance', 'common_covariance_inv'])\n",
    "df_stat = df_stat.set_index('label')"
   ]
  },
  {
   "cell_type": "markdown",
   "metadata": {},
   "source": [
    "## Multivariate discriminant function for common covariance matrix"
   ]
  },
  {
   "cell_type": "code",
   "execution_count": 11,
   "metadata": {},
   "outputs": [],
   "source": [
    "def discriminant_func(x, mean, common_covariance, common_covariance_inv, prob):   \n",
    "    \n",
    "    wi = np.dot(common_covariance_inv,mean)\n",
    "    wj = np.linalg.multi_dot([mean.T,common_covariance_inv,mean])\n",
    "    wk = -0.5 * wj + np.log(prob)\n",
    "    g = np.dot(wi.T, x) + wk \n",
    "    return g.squeeze().astype('float')\n"
   ]
  },
  {
   "cell_type": "markdown",
   "metadata": {},
   "source": [
    "## Multivariate predict function"
   ]
  },
  {
   "cell_type": "code",
   "execution_count": 12,
   "metadata": {},
   "outputs": [],
   "source": [
    "def multivariate_predict(df, df_stat):\n",
    "    df_no_label = df.drop(columns=[64])\n",
    "\n",
    "    results = []\n",
    "    for i in range(df_no_label.shape[0]):\n",
    "        x = np.asarray(df_no_label.iloc[i])\n",
    "        x = x.reshape(1,-1).T\n",
    "        discriminant_values = df_stat.apply(lambda row:\n",
    "                            discriminant_func(x, row[\"mean\"], row[\"common_covariance\"], row[\"common_covariance_inv\"], row[\"prob\"]), axis=1)\n",
    "\n",
    "        discriminant_values = discriminant_values.astype('float')\n",
    "        res = discriminant_values.idxmax()\n",
    "        results.append(res)\n",
    "\n",
    "    df_results = pd.DataFrame(results, columns=['predicted'])\n",
    "    return df_results"
   ]
  },
  {
   "cell_type": "markdown",
   "metadata": {},
   "source": [
    "## Find train and test errors"
   ]
  },
  {
   "cell_type": "code",
   "execution_count": 13,
   "metadata": {},
   "outputs": [],
   "source": [
    "df_results_train = multivariate_predict(df_train, df_stat)\n",
    "df_results_test = multivariate_predict(df_test, df_stat)"
   ]
  },
  {
   "cell_type": "code",
   "execution_count": 14,
   "metadata": {},
   "outputs": [
    {
     "name": "stdout",
     "output_type": "stream",
     "text": [
      "Train error: 11.5000 %\n"
     ]
    }
   ],
   "source": [
    "e = df_results_train.ne(df_train[64], axis=0).mean().sort_values()*100\n",
    "print(\"Train error: %.4f %%\"%(e.values[0]))"
   ]
  },
  {
   "cell_type": "markdown",
   "metadata": {},
   "source": [
    "## Train error: 11.5000 %"
   ]
  },
  {
   "cell_type": "code",
   "execution_count": 15,
   "metadata": {},
   "outputs": [
    {
     "name": "stdout",
     "output_type": "stream",
     "text": [
      "Test error: 12.7424 %\n"
     ]
    }
   ],
   "source": [
    "e = df_results_test.ne(df_test[64], axis=0).mean().sort_values()*100\n",
    "print(\"Test error: %.4f %%\"%(e.values[0]))"
   ]
  },
  {
   "cell_type": "markdown",
   "metadata": {},
   "source": [
    "## Test error: 12.7424 %"
   ]
  },
  {
   "cell_type": "markdown",
   "metadata": {},
   "source": [
    "## Confusion Matrix\n",
    "## 1) Confusion Matrix for Training"
   ]
  },
  {
   "cell_type": "code",
   "execution_count": 16,
   "metadata": {
    "scrolled": true
   },
   "outputs": [
    {
     "data": {
      "text/plain": [
       "array([[100,   0],\n",
       "       [ 23,  77]])"
      ]
     },
     "execution_count": 16,
     "metadata": {},
     "output_type": "execute_result"
    }
   ],
   "source": [
    "confusion_matrix(df_train[64], df_results_train)"
   ]
  },
  {
   "cell_type": "markdown",
   "metadata": {},
   "source": [
    "## 2) Confusion Matrix for Testing"
   ]
  },
  {
   "cell_type": "code",
   "execution_count": 18,
   "metadata": {
    "scrolled": true
   },
   "outputs": [
    {
     "data": {
      "text/plain": [
       "array([[181,   0],\n",
       "       [ 46, 134]])"
      ]
     },
     "execution_count": 18,
     "metadata": {},
     "output_type": "execute_result"
    }
   ],
   "source": [
    "confusion_matrix(df_test[64], df_results_test)"
   ]
  }
 ],
 "metadata": {
  "kernelspec": {
   "display_name": "Python 3",
   "language": "python",
   "name": "python3"
  },
  "language_info": {
   "codemirror_mode": {
    "name": "ipython",
    "version": 3
   },
   "file_extension": ".py",
   "mimetype": "text/x-python",
   "name": "python",
   "nbconvert_exporter": "python",
   "pygments_lexer": "ipython3",
   "version": "3.6.4"
  }
 },
 "nbformat": 4,
 "nbformat_minor": 4
}
